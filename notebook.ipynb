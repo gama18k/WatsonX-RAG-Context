{
 "cells": [
  {
   "cell_type": "markdown",
   "metadata": {},
   "source": [
    "![image](https://raw.githubusercontent.com/IBM/watson-machine-learning-samples/master/cloud/notebooks/headers/watsonx-Prompt_Lab-Notebook.png)\n",
    "# AI Service Deployment Notebook\n",
    "This notebook contains steps and code to test, promote, and deploy an AI Service\n",
    "capturing logic to implement RAG pattern for grounded chats.\n",
    "\n",
    "**Note:** Notebook code generated using Prompt Lab will execute successfully.\n",
    "If code is modified or reordered, there is no guarantee it will successfully execute.\n",
    "For details, see: <a href=\"/docs/content/wsj/analyze-data/fm-prompt-save.html?context=wx\" target=\"_blank\">Saving your work in Prompt Lab as a notebook.</a>\n",
    "\n",
    "\n",
    "Some familiarity with Python is helpful. This notebook uses Python 3.11.\n",
    "\n",
    "## Contents\n",
    "This notebook contains the following parts:\n",
    "\n",
    "1. Setup\n",
    "2. Initialize all the variables needed by the AI Service\n",
    "3. Define the AI service function\n",
    "4. Deploy an AI Service\n",
    "5. Test the deployed AI Service\n",
    "\n",
    "## 1. Set up the environment\n",
    "\n",
    "Before you can run this notebook, you must perform the following setup tasks:"
   ]
  },
  {
   "cell_type": "markdown",
   "metadata": {},
   "source": [
    "### Connection to WML\n",
    "This cell defines the credentials required to work with watsonx API for both the execution in the project, \n",
    "as well as the deployment and runtime execution of the function.\n",
    "\n",
    "**Action:** Provide the IBM Cloud personal API key. For details, see\n",
    "<a href=\"https://cloud.ibm.com/docs/account?topic=account-userapikey&interface=ui\" target=\"_blank\">documentation</a>.\n"
   ]
  },
  {
   "cell_type": "code",
   "execution_count": null,
   "metadata": {},
   "outputs": [],
   "source": [
    "import os\n",
    "from ibm_watsonx_ai import APIClient, Credentials\n",
    "import getpass\n",
    "\n",
    "credentials = Credentials(\n",
    "    url=\"https://us-south.ml.cloud.ibm.com\",\n",
    "    api_key=getpass.getpass(\"Please enter your api key (hit enter): \")\n",
    ")\n",
    "\n"
   ]
  },
  {
   "cell_type": "code",
   "execution_count": null,
   "metadata": {},
   "outputs": [],
   "source": [
    "client = APIClient(credentials)"
   ]
  },
  {
   "cell_type": "markdown",
   "metadata": {},
   "source": [
    "### Connecting to a space\n",
    "A space will be be used to host the promoted AI Service.\n"
   ]
  },
  {
   "cell_type": "code",
   "execution_count": null,
   "metadata": {},
   "outputs": [],
   "source": [
    "space_id = \"d9b4774a-7907-4271-b075-\"\n",
    "client.set.default_space(space_id)\n"
   ]
  },
  {
   "cell_type": "markdown",
   "metadata": {},
   "source": [
    "### Promote asset(s) to space\n",
    "We will now promote assets we will need to stage in the space so that we can access their data from the AI service.\n"
   ]
  },
  {
   "cell_type": "code",
   "execution_count": null,
   "metadata": {},
   "outputs": [],
   "source": [
    "source_project_id = \"1472ec8f-ac8a-4ab4-8fb3-\"\n",
    "vector_index_id = client.spaces.promote(\"eb501610-900c-4d4b-a3ea-\", source_project_id, space_id)\n",
    "print(vector_index_id)\n"
   ]
  },
  {
   "cell_type": "markdown",
   "metadata": {},
   "source": [
    "## 2. Create the AI service function\n",
    "We first need to define the AI service function\n",
    "\n",
    "### 2.1 Define the function"
   ]
  },
  {
   "cell_type": "code",
   "execution_count": null,
   "metadata": {},
   "outputs": [],
   "source": [
    "params = {\n",
    "    \"space_id\": space_id, \n",
    "    \"vector_index_id\": vector_index_id\n",
    "}\n",
    "\n",
    "def gen_ai_service(context, params = params, **custom):\n",
    "    # import dependencies\n",
    "    import json\n",
    "    from ibm_watsonx_ai.foundation_models import ModelInference\n",
    "    from ibm_watsonx_ai.foundation_models.utils import Tool, Toolkit\n",
    "    from ibm_watsonx_ai import APIClient, Credentials\n",
    "    import os\n",
    "\n",
    "    vector_index_id = params.get(\"vector_index_id\")\n",
    "    space_id = params.get(\"space_id\")\n",
    "\n",
    "    def proximity_search( query, api_client ):\n",
    "        document_search_tool = Toolkit(\n",
    "            api_client=api_client\n",
    "        ).get_tool(\"RAGQuery\")\n",
    "\n",
    "        config = {\n",
    "            \"vectorIndexId\": vector_index_id,\n",
    "            \"spaceId\": space_id\n",
    "        }\n",
    "\n",
    "        results = document_search_tool.run(\n",
    "            input=query,\n",
    "            config=config\n",
    "        )\n",
    "\n",
    "        return results.get(\"output\")\n",
    "\n",
    "    # Functions used for inferencing\n",
    "    def format_input(messages, context):\n",
    "        system = f\"\"\"<|start_header_id|>system<|end_header_id|>\n",
    "PROMPT.<|eot_id|><|start_header_id|>user<|end_header_id|>\n",
    "\n",
    "{context}\"\"\"\n",
    "        messages_section = []\n",
    "\n",
    "        for index,value in enumerate(messages, start=0):\n",
    "            content = value[\"content\"]\n",
    "            user_template = f\"\"\"<|eot_id|><|start_header_id|>user<|end_header_id|>\n",
    "\n",
    "{content}\"\"\"\n",
    "            assistant_template = f\"\"\"<|eot_id|><|start_header_id|>assistant<|end_header_id|>\n",
    "\n",
    "{content}\"\"\"\n",
    "            grounded_user_template = f\"\"\"<|eot_id|><|start_header_id|>user<|end_header_id|>\n",
    "\n",
    "{content}\"\"\"\n",
    "\n",
    "            formatted_entry = user_template if value[\"role\"] == \"user\" else assistant_template\n",
    "            if (index == len(messages)-1):\n",
    "                formatted_entry = grounded_user_template\n",
    "            \n",
    "            messages_section.append(formatted_entry)\n",
    "\n",
    "        messages_section = \"\".join(messages_section)\n",
    "        prompt = f\"\"\"<|begin_of_text|>{system}{messages_section}<|eot_id|><|start_header_id|>assistant<|end_header_id|>\n",
    "\n",
    "\"\"\"\n",
    "        return prompt\n",
    "\n",
    "    def get_api_client(context):\n",
    "        credentials = Credentials(\n",
    "            url=\"https://us-south.ml.cloud.ibm.com\",\n",
    "            token=context.get_token()\n",
    "        )\n",
    "\n",
    "        api_client = APIClient(\n",
    "            credentials = credentials,\n",
    "            space_id = space_id\n",
    "        )\n",
    "\n",
    "        return api_client\n",
    "    \n",
    "    def inference_model( messages, context, stream ):\n",
    "        query = messages[-1].get(\"content\")\n",
    "        api_client = get_api_client(context)\n",
    "\n",
    "        context = proximity_search(query, api_client)\n",
    "\n",
    "        prompt = format_input(messages, context)\n",
    "        model_id = \"meta-llama/llama-3-3-70b-instruct\"\n",
    "        parameters =  {\n",
    "            \"decoding_method\": \"greedy\",\n",
    "            \"max_new_tokens\": 300,\n",
    "            \"min_new_tokens\": 0,\n",
    "            \"repetition_penalty\": 1\n",
    "        }\n",
    "        model = ModelInference(\n",
    "            model_id = model_id,\n",
    "            api_client = api_client,\n",
    "            params = parameters,\n",
    "        )\n",
    "        # Generate grounded response\n",
    "        if (stream == True):\n",
    "            generated_response = model.generate_text_stream(prompt=prompt, guardrails=False)\n",
    "        else:\n",
    "            generated_response = model.generate_text(prompt=prompt, guardrails=False)\n",
    "\n",
    "        return generated_response\n",
    "\n",
    "\n",
    "    def generate(context):\n",
    "        payload = context.get_json()\n",
    "        messages = payload.get(\"messages\")\n",
    "        \n",
    "        # Grounded inferencing\n",
    "        generated_response = inference_model(messages, context, False)\n",
    "        \n",
    "        execute_response = {\n",
    "            \"headers\": {\n",
    "                \"Content-Type\": \"application/json\"\n",
    "            },\n",
    "            \"body\": {\n",
    "                \"choices\": [{\n",
    "                    \"index\": 0,\n",
    "                    \"message\": {\n",
    "                    \"role\": \"assistant\",\n",
    "                    \"content\": generated_response\n",
    "                    }\n",
    "                }]\n",
    "            }\n",
    "        }\n",
    "\n",
    "        return execute_response\n",
    "\n",
    "    def generate_stream(context):\n",
    "        payload = context.get_json()\n",
    "        messages = payload.get(\"messages\")\n",
    "\n",
    "        # Grounded inferencing\n",
    "        response_stream = inference_model(messages, context, True)\n",
    "\n",
    "        for chunk in response_stream:\n",
    "            chunk_response = {\n",
    "                \"choices\": [{\n",
    "                    \"index\": 0,\n",
    "                    \"delta\": {\n",
    "                        \"role\": \"assistant\",\n",
    "                        \"content\": chunk\n",
    "                    }\n",
    "                    \n",
    "                }]\n",
    "            }\n",
    "            yield chunk_response\n",
    "\n",
    "    return generate, generate_stream\n"
   ]
  },
  {
   "cell_type": "markdown",
   "metadata": {},
   "source": [
    "### 2.2 Test locally"
   ]
  },
  {
   "cell_type": "code",
   "execution_count": null,
   "metadata": {},
   "outputs": [],
   "source": [
    "# Initialize AI Service function locally\n",
    "from ibm_watsonx_ai.deployments import RuntimeContext\n",
    "\n",
    "context = RuntimeContext(api_client=client)\n",
    "\n",
    "streaming = False\n",
    "findex = 1 if streaming else 0\n",
    "local_function = gen_ai_service(context, vector_index_id=vector_index_id, space_id=space_id)[findex]\n",
    "messages = []"
   ]
  },
  {
   "cell_type": "code",
   "execution_count": null,
   "metadata": {},
   "outputs": [],
   "source": [
    "local_question = \"Change this question to test your function\"\n",
    "\n",
    "messages.append({ \"role\" : \"user\", \"content\": local_question })\n",
    "\n",
    "context = RuntimeContext(api_client=client, request_payload_json={\"messages\": messages})\n",
    "\n",
    "response = local_function(context)\n",
    "\n",
    "result = ''\n",
    "\n",
    "if (streaming):\n",
    "    for chunk in response:\n",
    "        print(chunk[\"choices\"][0][\"delta\"][\"content\"], end=\"\", flush=True)\n",
    "else:\n",
    "    print(response)\n"
   ]
  },
  {
   "cell_type": "markdown",
   "metadata": {},
   "source": [
    "## 3. Store and deploy the AI Service\n",
    "Before you can deploy the AI Service, you must store the AI service in your watsonx.ai repository."
   ]
  },
  {
   "cell_type": "code",
   "execution_count": null,
   "metadata": {},
   "outputs": [],
   "source": [
    "# Look up software specification for the AI service\n",
    "software_spec_id_in_project = \"7bb7015f-994a-40f4-adcb-a1e6ad38741c\"\n",
    "software_spec_id = \"\"\n",
    "\n",
    "try:\n",
    "\tsoftware_spec_id = client.software_specifications.get_id_by_name(\"ai-service-v6-a-software-specification\")\n",
    "except:\n",
    "    software_spec_id = client.spaces.promote(software_spec_id_in_project, source_project_id, space_id)"
   ]
  },
  {
   "cell_type": "code",
   "execution_count": null,
   "metadata": {},
   "outputs": [],
   "source": [
    "# Define the request and response schemas for the AI service\n",
    "request_schema = {\n",
    "    \"application/json\": {\n",
    "        \"$schema\": \"http://json-schema.org/draft-07/schema#\",\n",
    "        \"type\": \"object\",\n",
    "        \"properties\": {\n",
    "            \"messages\": {\n",
    "                \"title\": \"The messages for this chat session.\",\n",
    "                \"type\": \"array\",\n",
    "                \"items\": {\n",
    "                    \"type\": \"object\",\n",
    "                    \"properties\": {\n",
    "                        \"role\": {\n",
    "                            \"title\": \"The role of the message author.\",\n",
    "                            \"type\": \"string\",\n",
    "                            \"enum\": [\"user\",\"assistant\"]\n",
    "                        },\n",
    "                        \"content\": {\n",
    "                            \"title\": \"The contents of the message.\",\n",
    "                            \"type\": \"string\"\n",
    "                        }\n",
    "                    },\n",
    "                    \"required\": [\"role\",\"content\"]\n",
    "                }\n",
    "            }\n",
    "        },\n",
    "        \"required\": [\"messages\"]\n",
    "    }\n",
    "}\n",
    "\n",
    "response_schema = {\n",
    "    \"application/json\": {\n",
    "        \"oneOf\": [{\"$schema\":\"http://json-schema.org/draft-07/schema#\",\"type\":\"object\",\"description\":\"AI Service response for /ai_service_stream\",\"properties\":{\"choices\":{\"description\":\"A list of chat completion choices.\",\"type\":\"array\",\"items\":{\"type\":\"object\",\"properties\":{\"index\":{\"type\":\"integer\",\"title\":\"The index of this result.\"},\"delta\":{\"description\":\"A message result.\",\"type\":\"object\",\"properties\":{\"content\":{\"description\":\"The contents of the message.\",\"type\":\"string\"},\"role\":{\"description\":\"The role of the author of this message.\",\"type\":\"string\"}},\"required\":[\"role\"]}}}}},\"required\":[\"choices\"]},{\"$schema\":\"http://json-schema.org/draft-07/schema#\",\"type\":\"object\",\"description\":\"AI Service response for /ai_service\",\"properties\":{\"choices\":{\"description\":\"A list of chat completion choices\",\"type\":\"array\",\"items\":{\"type\":\"object\",\"properties\":{\"index\":{\"type\":\"integer\",\"description\":\"The index of this result.\"},\"message\":{\"description\":\"A message result.\",\"type\":\"object\",\"properties\":{\"role\":{\"description\":\"The role of the author of this message.\",\"type\":\"string\"},\"content\":{\"title\":\"Message content.\",\"type\":\"string\"}},\"required\":[\"role\"]}}}}},\"required\":[\"choices\"]}]\n",
    "    }\n",
    "}"
   ]
  },
  {
   "cell_type": "code",
   "execution_count": null,
   "metadata": {},
   "outputs": [],
   "source": [
    "# Store the AI service in the repository\n",
    "ai_service_metadata = {\n",
    "    client.repository.AIServiceMetaNames.NAME: \"notebook\",\n",
    "    client.repository.AIServiceMetaNames.DESCRIPTION: \"\",\n",
    "    client.repository.AIServiceMetaNames.SOFTWARE_SPEC_ID: software_spec_id,\n",
    "    client.repository.AIServiceMetaNames.CUSTOM: {},\n",
    "    client.repository.AIServiceMetaNames.REQUEST_DOCUMENTATION: request_schema,\n",
    "    client.repository.AIServiceMetaNames.RESPONSE_DOCUMENTATION: response_schema,\n",
    "    client.repository.AIServiceMetaNames.TAGS: [\"wx-vector-index\"]\n",
    "}\n",
    "\n",
    "ai_service_details = client.repository.store_ai_service(meta_props=ai_service_metadata, ai_service=gen_ai_service)"
   ]
  },
  {
   "cell_type": "code",
   "execution_count": null,
   "metadata": {},
   "outputs": [],
   "source": [
    "# Get the AI Service ID\n",
    "\n",
    "ai_service_id = client.repository.get_ai_service_id(ai_service_details)"
   ]
  },
  {
   "cell_type": "code",
   "execution_count": null,
   "metadata": {},
   "outputs": [],
   "source": [
    "# Deploy the stored AI Service\n",
    "deployment_custom = {}\n",
    "deployment_metadata = {\n",
    "    client.deployments.ConfigurationMetaNames.NAME: \"notebook\",\n",
    "    client.deployments.ConfigurationMetaNames.ONLINE: {},\n",
    "    client.deployments.ConfigurationMetaNames.CUSTOM: deployment_custom,\n",
    "    client.deployments.ConfigurationMetaNames.DESCRIPTION: \"\",\n",
    "    client.repository.AIServiceMetaNames.TAGS: [\"wx-vector-index\"]\n",
    "}\n",
    "\n",
    "function_deployment_details = client.deployments.create(ai_service_id, meta_props=deployment_metadata, space_id=space_id)\n"
   ]
  },
  {
   "cell_type": "markdown",
   "metadata": {},
   "source": [
    "## 4. Test AI Service"
   ]
  },
  {
   "cell_type": "code",
   "execution_count": null,
   "metadata": {},
   "outputs": [],
   "source": [
    "# Get the ID of the AI Service deployment just created\n",
    "\n",
    "deployment_id = client.deployments.get_id(function_deployment_details)\n",
    "print(deployment_id)"
   ]
  },
  {
   "cell_type": "code",
   "execution_count": null,
   "metadata": {},
   "outputs": [],
   "source": [
    "messages = []\n",
    "remote_question = \"Change this question to test your function\"\n",
    "messages.append({ \"role\" : \"user\", \"content\": remote_question })\n",
    "payload = { \"messages\": messages }"
   ]
  },
  {
   "cell_type": "code",
   "execution_count": null,
   "metadata": {},
   "outputs": [],
   "source": [
    "result = client.deployments.run_ai_service(deployment_id, payload)\n",
    "if \"error\" in result:\n",
    "    print(result[\"error\"])\n",
    "else:\n",
    "    print(result)"
   ]
  },
  {
   "cell_type": "markdown",
   "metadata": {},
   "source": [
    "# Next steps\n",
    "You successfully deployed and tested the AI Service! You can now view\n",
    "your deployment and test it as a REST API endpoint.\n",
    "\n",
    "<a id=\"copyrights\"></a>\n",
    "### Copyrights\n",
    "\n",
    "Licensed Materials - Copyright © 2024 IBM. This notebook and its source code are released under the terms of the ILAN License.\n",
    "Use, duplication disclosure restricted by GSA ADP Schedule Contract with IBM Corp.\n",
    "\n",
    "**Note:** The auto-generated notebooks are subject to the International License Agreement for Non-Warranted Programs (or equivalent) and License Information document for watsonx.ai Auto-generated Notebook (License Terms), such agreements located in the link below. Specifically, the Source Components and Sample Materials clause included in the License Information document for watsonx.ai Studio Auto-generated Notebook applies to the auto-generated notebooks.  \n",
    "\n",
    "By downloading, copying, accessing, or otherwise using the materials, you agree to the <a href=\"https://www14.software.ibm.com/cgi-bin/weblap/lap.pl?li_formnum=L-AMCU-BYC7LF\" target=\"_blank\">License Terms</a>  "
   ]
  }
 ],
 "metadata": {
  "kernelspec": {
   "display_name": "Python 3.10",
   "language": "python",
   "name": "python3"
  }
 },
 "nbformat": 4,
 "nbformat_minor": 0
}
